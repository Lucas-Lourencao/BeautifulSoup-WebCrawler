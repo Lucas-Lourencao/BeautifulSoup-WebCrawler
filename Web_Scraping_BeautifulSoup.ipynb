{
 "cells": [
  {
   "cell_type": "code",
   "execution_count": null,
   "id": "f3384710",
   "metadata": {},
   "outputs": [],
   "source": [
    "import requests\n",
    "from bs4 import BeautifulSoup\n",
    "\n",
    "# URL da página da Wikipédia sobre São Paulo em Português\n",
    "url = 'https://pt.m.wikipedia.org/wiki/Interstellar'\n",
    "\n",
    "# Faz uma requisição HTTP GET na URL da página\n",
    "response = requests.get(url)\n",
    "\n",
    "# Verifica se a requisição foi bem-sucedida\n",
    "if response.status_code == 200:\n",
    "    # Cria o objeto BeautifulSoup com o conteúdo HTML da página\n",
    "    soup = BeautifulSoup(response.content, 'html.parser')\n",
    "    # Imprime na tela a mensagem informando a página principal visitada\n",
    "    print(f'Página principal: {soup.title.string}')\n",
    "    # Busca todos os links da Wikipédia presentes no conteúdo da página\n",
    "    for link in soup.find_all('a', href=lambda href: href and href.startswith('/wiki/')):\n",
    "        # Monta a URL completa do link encontrado\n",
    "        link_url = f'https://pt.wikipedia.org{link.get(\"href\")}'\n",
    "        \n",
    "        # Faz uma requisição HTTP GET na URL do link\n",
    "        link_response = requests.get(link_url)\n",
    "        \n",
    "        # Verifica se a requisição foi bem-sucedida\n",
    "        if link_response.status_code == 200:\n",
    "            # Cria o objeto BeautifulSoup com o conteúdo HTML da página do link\n",
    "            link_soup = BeautifulSoup(link_response.content, 'html.parser')\n",
    "            \n",
    "            # Imprime na tela a mensagem informando a página secundária visitada\n",
    "            print(f'Página secundária: {link_soup.title.string}')"
   ]
  }
 ],
 "metadata": {
  "kernelspec": {
   "display_name": "Python 3 (ipykernel)",
   "language": "python",
   "name": "python3"
  },
  "language_info": {
   "codemirror_mode": {
    "name": "ipython",
    "version": 3
   },
   "file_extension": ".py",
   "mimetype": "text/x-python",
   "name": "python",
   "nbconvert_exporter": "python",
   "pygments_lexer": "ipython3",
   "version": "3.9.13"
  }
 },
 "nbformat": 4,
 "nbformat_minor": 5
}
